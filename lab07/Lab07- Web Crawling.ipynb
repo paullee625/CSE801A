{
 "cells": [
  {
   "cell_type": "markdown",
   "metadata": {},
   "source": [
    "# Lab07: Web Crawling"
   ]
  },
  {
   "cell_type": "markdown",
   "metadata": {},
   "source": [
    "## Overview\n",
    "\n",
    "There are three parts to this exercise.  I would like you to place all material for this exercise in your github repository in the directory `labs/07/` directory.\n",
    "\n",
    "Objectives:\n",
    "* Learning HTML by writing it\n",
    "* Using BeautifulSoup to scrape data from webpages\n",
    "\n",
    "<span style=\"color:red\">Make sure you have installed BeautifulSoup into your conda environment</span>.\n",
    "\n"
   ]
  },
  {
   "cell_type": "markdown",
   "metadata": {},
   "source": [
    "## Part A:  Making a webpage\n",
    "\n",
    "I would like you to write a valid HTML webpage.  You don't need any special software to do this: any text editor (including VSCode) would do.  Name the page exercise08.html.  The page must contain the following elements:\n",
    "\n",
    "* A level-1 header\n",
    "* An image (download one and put it in the exercise/08 folder with the page)\n",
    "* A few paragraphs (about any topic)\n",
    "* A few links in those paragraphs (that are to other pages on that topic)\n",
    "* A table with three columns, one heading column, and at least three data columns\n",
    "* You can pick the topic for the table.\n",
    "\n",
    "Make this webpage and its contents available in your github repository for today's lab.\n"
   ]
  },
  {
   "cell_type": "code",
   "execution_count": null,
   "metadata": {},
   "outputs": [],
   "source": [
    "# There is no code for part A, but\n",
    "# a code cell does break up the notebook"
   ]
  },
  {
   "cell_type": "markdown",
   "metadata": {},
   "source": [
    "## Part B: A Simple Beautiful Soup\n",
    "\n",
    "I would like you to find all the URLS used in the links in your webpage using the find_all method from Beautiful Soup.\n",
    "\n",
    "You may use this starter code to assist you"
   ]
  },
  {
   "cell_type": "code",
   "execution_count": 2,
   "metadata": {},
   "outputs": [],
   "source": [
    "# This code will get you started with finding the links\n",
    "# in your webpage\n",
    "\n",
    "from bs4 import BeautifulSoup\n",
    "\n",
    "filename='exercise08.html'  # <--- change this to your file\n",
    "                            # it should be in the same directory \n",
    "                            # as this notebook\n",
    "with open(filename) as fh:\n",
    "    parsed_page = BeautifulSoup(fh)"
   ]
  },
  {
   "cell_type": "markdown",
   "metadata": {},
   "source": [
    "## Part C:  Crawling Wikipedia with Beautiful Soup\n",
    "\n",
    "I'd like you to find all the unique web pages linked to from the **Young Frankenstein** Wikipedia page that are also within the wikipedia domain.  Use the demo from today to guide your efforts.\n",
    "\n",
    "Link: [https://en.wikipedia.org/wiki/Young_Frankenstein](https://en.wikipedia.org/wiki/Young_Frankenstein)"
   ]
  },
  {
   "cell_type": "code",
   "execution_count": 4,
   "metadata": {},
   "outputs": [],
   "source": [
    "import urllib"
   ]
  }
 ],
 "metadata": {
  "kernelspec": {
   "display_name": "Python 3",
   "language": "python",
   "name": "python3"
  },
  "language_info": {
   "codemirror_mode": {
    "name": "ipython",
    "version": 3
   },
   "file_extension": ".py",
   "mimetype": "text/x-python",
   "name": "python",
   "nbconvert_exporter": "python",
   "pygments_lexer": "ipython3",
   "version": "3.8.5"
  }
 },
 "nbformat": 4,
 "nbformat_minor": 2
}
